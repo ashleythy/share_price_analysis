{
 "cells": [
  {
   "cell_type": "markdown",
   "id": "857a299e",
   "metadata": {},
   "source": [
    "### Iteration 3\n",
    "\n",
    "Moved classes/ functions defined in notebook before to python script and call them for use in this notebook"
   ]
  },
  {
   "cell_type": "code",
   "execution_count": null,
   "id": "2422dc87",
   "metadata": {},
   "outputs": [],
   "source": [
    "import os"
   ]
  },
  {
   "cell_type": "code",
   "execution_count": null,
   "id": "071ff13b",
   "metadata": {},
   "outputs": [],
   "source": [
    "# import correlation_functions as func"
   ]
  },
  {
   "cell_type": "code",
   "execution_count": null,
   "id": "6e62ff0c",
   "metadata": {},
   "outputs": [],
   "source": [
    "%run correlation_functions.py"
   ]
  },
  {
   "cell_type": "markdown",
   "id": "15c4fba6",
   "metadata": {},
   "source": [
    "**Import asset datasets from specified directory**"
   ]
  },
  {
   "cell_type": "code",
   "execution_count": null,
   "id": "7b52a73f",
   "metadata": {},
   "outputs": [],
   "source": [
    "df = import_datasets('../datasets/')"
   ]
  },
  {
   "cell_type": "code",
   "execution_count": null,
   "id": "a9b51eae",
   "metadata": {},
   "outputs": [],
   "source": [
    "df.head()"
   ]
  },
  {
   "cell_type": "markdown",
   "id": "833d6b1c",
   "metadata": {},
   "source": [
    "**Pearson's correlation**"
   ]
  },
  {
   "cell_type": "code",
   "execution_count": null,
   "id": "b4978b52",
   "metadata": {},
   "outputs": [],
   "source": [
    "results = correlate(df=df,\n",
    "                    price='close',\n",
    "                    start_ymd='2021-09-01',\n",
    "                    end_ymd='2022-02-01',\n",
    "                    interval=['d',7])"
   ]
  },
  {
   "cell_type": "code",
   "execution_count": null,
   "id": "c8adceb2",
   "metadata": {},
   "outputs": [],
   "source": [
    "results"
   ]
  },
  {
   "cell_type": "markdown",
   "id": "989d311d",
   "metadata": {},
   "source": [
    "**Regression analysis**"
   ]
  },
  {
   "cell_type": "code",
   "execution_count": null,
   "id": "0deb72de",
   "metadata": {},
   "outputs": [],
   "source": [
    "regressor(df, price='close')"
   ]
  }
 ],
 "metadata": {
  "kernelspec": {
   "display_name": "Python 3 (ipykernel)",
   "language": "python",
   "name": "python3"
  },
  "language_info": {
   "codemirror_mode": {
    "name": "ipython",
    "version": 3
   },
   "file_extension": ".py",
   "mimetype": "text/x-python",
   "name": "python",
   "nbconvert_exporter": "python",
   "pygments_lexer": "ipython3",
   "version": "3.10.0"
  }
 },
 "nbformat": 4,
 "nbformat_minor": 5
}
